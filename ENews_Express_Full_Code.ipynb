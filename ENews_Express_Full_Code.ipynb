{
  "nbformat": 4,
  "nbformat_minor": 5,
  "metadata": {
    "kernelspec": {
      "display_name": "Python 3",
      "language": "python",
      "name": "python3"
    },
    "language_info": {
      "codemirror_mode": {
        "name": "ipython",
        "version": 3
      },
      "file_extension": ".py",
      "mimetype": "text/x-python",
      "name": "python",
      "nbconvert_exporter": "python",
      "pygments_lexer": "ipython3",
      "version": "3.8.8"
    },
    "colab": {
      "provenance": []
    }
  },
  "cells": [
    {
      "cell_type": "markdown",
      "metadata": {
        "id": "6yDxo9u0d9Na"
      },
      "source": [
        "# Project Business Statistics: E-news Express\n",
        "\n",
        "**Marks: 60**"
      ],
      "id": "6yDxo9u0d9Na"
    },
    {
      "cell_type": "markdown",
      "metadata": {
        "id": "SrLd-ICEmPSD"
      },
      "source": [
        "## Define Problem Statement and Objectives"
      ],
      "id": "SrLd-ICEmPSD"
    },
    {
      "cell_type": "markdown",
      "metadata": {
        "id": "9Vt1PLLqmXNn"
      },
      "source": [
        "Problem Statement\n",
        "The design team of the company has researched and created a new landing page that has a new outline & more relevant content shown compared to the old page. In order to test the effectiveness of the new landing page in gathering new subscribers, the Data Science team conducted an experiment by randomly selecting 100 users and dividing them equally into two groups. The existing landing page was served to the first group (control group) and the new landing page to the second group (treatment group). Data regarding the interaction of users in both groups with the two versions of the landing page was collected.\n",
        "\n",
        "Objectives\n",
        "To explore the data and perform a statistical analysis (at a significance level of 5%) to determine the effectiveness of the new landing page in gathering new subscribers for the news portal by answering the following questions:\n",
        "\n",
        "1. Do the users spend more time on the new landing page than on the existing landing page?\n",
        "\n",
        "2. Is the conversion rate (the proportion of users who visit the landing page and get converted) for the new page greater than the conversion rate for the old page?\n",
        "\n",
        "3. Does the converted status depend on the preferred language? [Hint: Create a contingency table using the pandas.crosstab() function]\n",
        "\n",
        "4. Is the time spent on the new page the same for the different language users?\n"
      ],
      "id": "9Vt1PLLqmXNn"
    },
    {
      "cell_type": "markdown",
      "metadata": {
        "id": "a6a3d218"
      },
      "source": [
        "## Import all the necessary libraries"
      ],
      "id": "a6a3d218"
    },
    {
      "cell_type": "code",
      "metadata": {
        "id": "658c5dec"
      },
      "source": [
        "# import libraries for data manipulation\n",
        "import numpy as np\n",
        "import pandas as pd\n",
        "\n",
        "# import libraries for data visualization\n",
        "from matplotlib import pyplot as plt\n",
        "import seaborn as sns"
      ],
      "id": "658c5dec",
      "execution_count": null,
      "outputs": []
    },
    {
      "cell_type": "markdown",
      "metadata": {
        "id": "6970dd99"
      },
      "source": [
        "## Reading the Data into a DataFrame"
      ],
      "id": "6970dd99"
    },
    {
      "cell_type": "code",
      "metadata": {
        "id": "d3b95640",
        "colab": {
          "base_uri": "https://localhost:8080/",
          "height": 223
        },
        "outputId": "38eb77d4-a8f7-4073-9910-2f751e83dc1e"
      },
      "source": [
        "from google.colab import drive\n",
        "drive.mount('/content/drive')\n",
        "# read the data\n",
        "df = pd.read_csv('/content/drive/MyDrive/Python/abtest.csv')\n",
        "# returns the first 5 rows\n",
        "df.head()\n"
      ],
      "id": "d3b95640",
      "execution_count": null,
      "outputs": [
        {
          "output_type": "stream",
          "name": "stdout",
          "text": [
            "Mounted at /content/drive\n"
          ]
        },
        {
          "output_type": "execute_result",
          "data": {
            "text/plain": [
              "   user_id      group landing_page  time_spent_on_the_page converted  \\\n",
              "0   546592    control          old                    3.48        no   \n",
              "1   546468  treatment          new                    7.13       yes   \n",
              "2   546462  treatment          new                    4.40        no   \n",
              "3   546567    control          old                    3.02        no   \n",
              "4   546459  treatment          new                    4.75       yes   \n",
              "\n",
              "  language_preferred  \n",
              "0            Spanish  \n",
              "1            English  \n",
              "2            Spanish  \n",
              "3             French  \n",
              "4            Spanish  "
            ],
            "text/html": [
              "\n",
              "  <div id=\"df-7f3d433c-8689-4a35-a5bf-cf5a216b9e70\">\n",
              "    <div class=\"colab-df-container\">\n",
              "      <div>\n",
              "<style scoped>\n",
              "    .dataframe tbody tr th:only-of-type {\n",
              "        vertical-align: middle;\n",
              "    }\n",
              "\n",
              "    .dataframe tbody tr th {\n",
              "        vertical-align: top;\n",
              "    }\n",
              "\n",
              "    .dataframe thead th {\n",
              "        text-align: right;\n",
              "    }\n",
              "</style>\n",
              "<table border=\"1\" class=\"dataframe\">\n",
              "  <thead>\n",
              "    <tr style=\"text-align: right;\">\n",
              "      <th></th>\n",
              "      <th>user_id</th>\n",
              "      <th>group</th>\n",
              "      <th>landing_page</th>\n",
              "      <th>time_spent_on_the_page</th>\n",
              "      <th>converted</th>\n",
              "      <th>language_preferred</th>\n",
              "    </tr>\n",
              "  </thead>\n",
              "  <tbody>\n",
              "    <tr>\n",
              "      <th>0</th>\n",
              "      <td>546592</td>\n",
              "      <td>control</td>\n",
              "      <td>old</td>\n",
              "      <td>3.48</td>\n",
              "      <td>no</td>\n",
              "      <td>Spanish</td>\n",
              "    </tr>\n",
              "    <tr>\n",
              "      <th>1</th>\n",
              "      <td>546468</td>\n",
              "      <td>treatment</td>\n",
              "      <td>new</td>\n",
              "      <td>7.13</td>\n",
              "      <td>yes</td>\n",
              "      <td>English</td>\n",
              "    </tr>\n",
              "    <tr>\n",
              "      <th>2</th>\n",
              "      <td>546462</td>\n",
              "      <td>treatment</td>\n",
              "      <td>new</td>\n",
              "      <td>4.40</td>\n",
              "      <td>no</td>\n",
              "      <td>Spanish</td>\n",
              "    </tr>\n",
              "    <tr>\n",
              "      <th>3</th>\n",
              "      <td>546567</td>\n",
              "      <td>control</td>\n",
              "      <td>old</td>\n",
              "      <td>3.02</td>\n",
              "      <td>no</td>\n",
              "      <td>French</td>\n",
              "    </tr>\n",
              "    <tr>\n",
              "      <th>4</th>\n",
              "      <td>546459</td>\n",
              "      <td>treatment</td>\n",
              "      <td>new</td>\n",
              "      <td>4.75</td>\n",
              "      <td>yes</td>\n",
              "      <td>Spanish</td>\n",
              "    </tr>\n",
              "  </tbody>\n",
              "</table>\n",
              "</div>\n",
              "      <button class=\"colab-df-convert\" onclick=\"convertToInteractive('df-7f3d433c-8689-4a35-a5bf-cf5a216b9e70')\"\n",
              "              title=\"Convert this dataframe to an interactive table.\"\n",
              "              style=\"display:none;\">\n",
              "        \n",
              "  <svg xmlns=\"http://www.w3.org/2000/svg\" height=\"24px\"viewBox=\"0 0 24 24\"\n",
              "       width=\"24px\">\n",
              "    <path d=\"M0 0h24v24H0V0z\" fill=\"none\"/>\n",
              "    <path d=\"M18.56 5.44l.94 2.06.94-2.06 2.06-.94-2.06-.94-.94-2.06-.94 2.06-2.06.94zm-11 1L8.5 8.5l.94-2.06 2.06-.94-2.06-.94L8.5 2.5l-.94 2.06-2.06.94zm10 10l.94 2.06.94-2.06 2.06-.94-2.06-.94-.94-2.06-.94 2.06-2.06.94z\"/><path d=\"M17.41 7.96l-1.37-1.37c-.4-.4-.92-.59-1.43-.59-.52 0-1.04.2-1.43.59L10.3 9.45l-7.72 7.72c-.78.78-.78 2.05 0 2.83L4 21.41c.39.39.9.59 1.41.59.51 0 1.02-.2 1.41-.59l7.78-7.78 2.81-2.81c.8-.78.8-2.07 0-2.86zM5.41 20L4 18.59l7.72-7.72 1.47 1.35L5.41 20z\"/>\n",
              "  </svg>\n",
              "      </button>\n",
              "      \n",
              "  <style>\n",
              "    .colab-df-container {\n",
              "      display:flex;\n",
              "      flex-wrap:wrap;\n",
              "      gap: 12px;\n",
              "    }\n",
              "\n",
              "    .colab-df-convert {\n",
              "      background-color: #E8F0FE;\n",
              "      border: none;\n",
              "      border-radius: 50%;\n",
              "      cursor: pointer;\n",
              "      display: none;\n",
              "      fill: #1967D2;\n",
              "      height: 32px;\n",
              "      padding: 0 0 0 0;\n",
              "      width: 32px;\n",
              "    }\n",
              "\n",
              "    .colab-df-convert:hover {\n",
              "      background-color: #E2EBFA;\n",
              "      box-shadow: 0px 1px 2px rgba(60, 64, 67, 0.3), 0px 1px 3px 1px rgba(60, 64, 67, 0.15);\n",
              "      fill: #174EA6;\n",
              "    }\n",
              "\n",
              "    [theme=dark] .colab-df-convert {\n",
              "      background-color: #3B4455;\n",
              "      fill: #D2E3FC;\n",
              "    }\n",
              "\n",
              "    [theme=dark] .colab-df-convert:hover {\n",
              "      background-color: #434B5C;\n",
              "      box-shadow: 0px 1px 3px 1px rgba(0, 0, 0, 0.15);\n",
              "      filter: drop-shadow(0px 1px 2px rgba(0, 0, 0, 0.3));\n",
              "      fill: #FFFFFF;\n",
              "    }\n",
              "  </style>\n",
              "\n",
              "      <script>\n",
              "        const buttonEl =\n",
              "          document.querySelector('#df-7f3d433c-8689-4a35-a5bf-cf5a216b9e70 button.colab-df-convert');\n",
              "        buttonEl.style.display =\n",
              "          google.colab.kernel.accessAllowed ? 'block' : 'none';\n",
              "\n",
              "        async function convertToInteractive(key) {\n",
              "          const element = document.querySelector('#df-7f3d433c-8689-4a35-a5bf-cf5a216b9e70');\n",
              "          const dataTable =\n",
              "            await google.colab.kernel.invokeFunction('convertToInteractive',\n",
              "                                                     [key], {});\n",
              "          if (!dataTable) return;\n",
              "\n",
              "          const docLinkHtml = 'Like what you see? Visit the ' +\n",
              "            '<a target=\"_blank\" href=https://colab.research.google.com/notebooks/data_table.ipynb>data table notebook</a>'\n",
              "            + ' to learn more about interactive tables.';\n",
              "          element.innerHTML = '';\n",
              "          dataTable['output_type'] = 'display_data';\n",
              "          await google.colab.output.renderOutput(dataTable, element);\n",
              "          const docLink = document.createElement('div');\n",
              "          docLink.innerHTML = docLinkHtml;\n",
              "          element.appendChild(docLink);\n",
              "        }\n",
              "      </script>\n",
              "    </div>\n",
              "  </div>\n",
              "  "
            ]
          },
          "metadata": {},
          "execution_count": 2
        }
      ]
    },
    {
      "cell_type": "markdown",
      "metadata": {
        "id": "9d75cfa2"
      },
      "source": [
        "## Explore the dataset and extract insights using Exploratory Data Analysis"
      ],
      "id": "9d75cfa2"
    },
    {
      "cell_type": "markdown",
      "metadata": {
        "id": "27201534"
      },
      "source": [
        "- Data Overview\n",
        "  - Viewing the first and last few rows of the dataset\n",
        "  - Checking the shape of the dataset\n",
        "  - Getting the statistical summary for the variables\n",
        "- Check for missing values\n",
        "- Check for duplicates"
      ],
      "id": "27201534"
    },
    {
      "cell_type": "code",
      "metadata": {
        "id": "e1ad11d4",
        "colab": {
          "base_uri": "https://localhost:8080/",
          "height": 206
        },
        "outputId": "4b277fd9-2e15-4505-cda8-fa48b6e4697a"
      },
      "source": [
        "# view the first 5 rows of the dataset\n",
        "df.head()"
      ],
      "id": "e1ad11d4",
      "execution_count": null,
      "outputs": [
        {
          "output_type": "execute_result",
          "data": {
            "text/plain": [
              "   user_id      group landing_page  time_spent_on_the_page converted  \\\n",
              "0   546592    control          old                    3.48        no   \n",
              "1   546468  treatment          new                    7.13       yes   \n",
              "2   546462  treatment          new                    4.40        no   \n",
              "3   546567    control          old                    3.02        no   \n",
              "4   546459  treatment          new                    4.75       yes   \n",
              "\n",
              "  language_preferred  \n",
              "0            Spanish  \n",
              "1            English  \n",
              "2            Spanish  \n",
              "3             French  \n",
              "4            Spanish  "
            ],
            "text/html": [
              "\n",
              "  <div id=\"df-416f331b-2736-4250-b90c-acd09e0ba187\">\n",
              "    <div class=\"colab-df-container\">\n",
              "      <div>\n",
              "<style scoped>\n",
              "    .dataframe tbody tr th:only-of-type {\n",
              "        vertical-align: middle;\n",
              "    }\n",
              "\n",
              "    .dataframe tbody tr th {\n",
              "        vertical-align: top;\n",
              "    }\n",
              "\n",
              "    .dataframe thead th {\n",
              "        text-align: right;\n",
              "    }\n",
              "</style>\n",
              "<table border=\"1\" class=\"dataframe\">\n",
              "  <thead>\n",
              "    <tr style=\"text-align: right;\">\n",
              "      <th></th>\n",
              "      <th>user_id</th>\n",
              "      <th>group</th>\n",
              "      <th>landing_page</th>\n",
              "      <th>time_spent_on_the_page</th>\n",
              "      <th>converted</th>\n",
              "      <th>language_preferred</th>\n",
              "    </tr>\n",
              "  </thead>\n",
              "  <tbody>\n",
              "    <tr>\n",
              "      <th>0</th>\n",
              "      <td>546592</td>\n",
              "      <td>control</td>\n",
              "      <td>old</td>\n",
              "      <td>3.48</td>\n",
              "      <td>no</td>\n",
              "      <td>Spanish</td>\n",
              "    </tr>\n",
              "    <tr>\n",
              "      <th>1</th>\n",
              "      <td>546468</td>\n",
              "      <td>treatment</td>\n",
              "      <td>new</td>\n",
              "      <td>7.13</td>\n",
              "      <td>yes</td>\n",
              "      <td>English</td>\n",
              "    </tr>\n",
              "    <tr>\n",
              "      <th>2</th>\n",
              "      <td>546462</td>\n",
              "      <td>treatment</td>\n",
              "      <td>new</td>\n",
              "      <td>4.40</td>\n",
              "      <td>no</td>\n",
              "      <td>Spanish</td>\n",
              "    </tr>\n",
              "    <tr>\n",
              "      <th>3</th>\n",
              "      <td>546567</td>\n",
              "      <td>control</td>\n",
              "      <td>old</td>\n",
              "      <td>3.02</td>\n",
              "      <td>no</td>\n",
              "      <td>French</td>\n",
              "    </tr>\n",
              "    <tr>\n",
              "      <th>4</th>\n",
              "      <td>546459</td>\n",
              "      <td>treatment</td>\n",
              "      <td>new</td>\n",
              "      <td>4.75</td>\n",
              "      <td>yes</td>\n",
              "      <td>Spanish</td>\n",
              "    </tr>\n",
              "  </tbody>\n",
              "</table>\n",
              "</div>\n",
              "      <button class=\"colab-df-convert\" onclick=\"convertToInteractive('df-416f331b-2736-4250-b90c-acd09e0ba187')\"\n",
              "              title=\"Convert this dataframe to an interactive table.\"\n",
              "              style=\"display:none;\">\n",
              "        \n",
              "  <svg xmlns=\"http://www.w3.org/2000/svg\" height=\"24px\"viewBox=\"0 0 24 24\"\n",
              "       width=\"24px\">\n",
              "    <path d=\"M0 0h24v24H0V0z\" fill=\"none\"/>\n",
              "    <path d=\"M18.56 5.44l.94 2.06.94-2.06 2.06-.94-2.06-.94-.94-2.06-.94 2.06-2.06.94zm-11 1L8.5 8.5l.94-2.06 2.06-.94-2.06-.94L8.5 2.5l-.94 2.06-2.06.94zm10 10l.94 2.06.94-2.06 2.06-.94-2.06-.94-.94-2.06-.94 2.06-2.06.94z\"/><path d=\"M17.41 7.96l-1.37-1.37c-.4-.4-.92-.59-1.43-.59-.52 0-1.04.2-1.43.59L10.3 9.45l-7.72 7.72c-.78.78-.78 2.05 0 2.83L4 21.41c.39.39.9.59 1.41.59.51 0 1.02-.2 1.41-.59l7.78-7.78 2.81-2.81c.8-.78.8-2.07 0-2.86zM5.41 20L4 18.59l7.72-7.72 1.47 1.35L5.41 20z\"/>\n",
              "  </svg>\n",
              "      </button>\n",
              "      \n",
              "  <style>\n",
              "    .colab-df-container {\n",
              "      display:flex;\n",
              "      flex-wrap:wrap;\n",
              "      gap: 12px;\n",
              "    }\n",
              "\n",
              "    .colab-df-convert {\n",
              "      background-color: #E8F0FE;\n",
              "      border: none;\n",
              "      border-radius: 50%;\n",
              "      cursor: pointer;\n",
              "      display: none;\n",
              "      fill: #1967D2;\n",
              "      height: 32px;\n",
              "      padding: 0 0 0 0;\n",
              "      width: 32px;\n",
              "    }\n",
              "\n",
              "    .colab-df-convert:hover {\n",
              "      background-color: #E2EBFA;\n",
              "      box-shadow: 0px 1px 2px rgba(60, 64, 67, 0.3), 0px 1px 3px 1px rgba(60, 64, 67, 0.15);\n",
              "      fill: #174EA6;\n",
              "    }\n",
              "\n",
              "    [theme=dark] .colab-df-convert {\n",
              "      background-color: #3B4455;\n",
              "      fill: #D2E3FC;\n",
              "    }\n",
              "\n",
              "    [theme=dark] .colab-df-convert:hover {\n",
              "      background-color: #434B5C;\n",
              "      box-shadow: 0px 1px 3px 1px rgba(0, 0, 0, 0.15);\n",
              "      filter: drop-shadow(0px 1px 2px rgba(0, 0, 0, 0.3));\n",
              "      fill: #FFFFFF;\n",
              "    }\n",
              "  </style>\n",
              "\n",
              "      <script>\n",
              "        const buttonEl =\n",
              "          document.querySelector('#df-416f331b-2736-4250-b90c-acd09e0ba187 button.colab-df-convert');\n",
              "        buttonEl.style.display =\n",
              "          google.colab.kernel.accessAllowed ? 'block' : 'none';\n",
              "\n",
              "        async function convertToInteractive(key) {\n",
              "          const element = document.querySelector('#df-416f331b-2736-4250-b90c-acd09e0ba187');\n",
              "          const dataTable =\n",
              "            await google.colab.kernel.invokeFunction('convertToInteractive',\n",
              "                                                     [key], {});\n",
              "          if (!dataTable) return;\n",
              "\n",
              "          const docLinkHtml = 'Like what you see? Visit the ' +\n",
              "            '<a target=\"_blank\" href=https://colab.research.google.com/notebooks/data_table.ipynb>data table notebook</a>'\n",
              "            + ' to learn more about interactive tables.';\n",
              "          element.innerHTML = '';\n",
              "          dataTable['output_type'] = 'display_data';\n",
              "          await google.colab.output.renderOutput(dataTable, element);\n",
              "          const docLink = document.createElement('div');\n",
              "          docLink.innerHTML = docLinkHtml;\n",
              "          element.appendChild(docLink);\n",
              "        }\n",
              "      </script>\n",
              "    </div>\n",
              "  </div>\n",
              "  "
            ]
          },
          "metadata": {},
          "execution_count": 3
        }
      ]
    },
    {
      "cell_type": "code",
      "source": [
        "# view the last 5 rows of the dataset\n",
        "df.tail()"
      ],
      "metadata": {
        "colab": {
          "base_uri": "https://localhost:8080/",
          "height": 250
        },
        "id": "1ENOsvfHFGsx",
        "outputId": "40a50636-50a2-4456-c6e1-5a2cfa527a14"
      },
      "id": "1ENOsvfHFGsx",
      "execution_count": null,
      "outputs": [
        {
          "output_type": "execute_result",
          "data": {
            "text/plain": [
              "    user_id      group landing_page  time_spent_on_the_page converted  \\\n",
              "95   546446  treatment          new                    5.15        no   \n",
              "96   546544    control          old                    6.52       yes   \n",
              "97   546472  treatment          new                    7.07       yes   \n",
              "98   546481  treatment          new                    6.20       yes   \n",
              "99   546483  treatment          new                    5.86       yes   \n",
              "\n",
              "   language_preferred  \n",
              "95            Spanish  \n",
              "96            English  \n",
              "97            Spanish  \n",
              "98            Spanish  \n",
              "99            English  "
            ],
            "text/html": [
              "\n",
              "  <div id=\"df-72417423-6d19-4843-8eb2-a2fe921b1667\">\n",
              "    <div class=\"colab-df-container\">\n",
              "      <div>\n",
              "<style scoped>\n",
              "    .dataframe tbody tr th:only-of-type {\n",
              "        vertical-align: middle;\n",
              "    }\n",
              "\n",
              "    .dataframe tbody tr th {\n",
              "        vertical-align: top;\n",
              "    }\n",
              "\n",
              "    .dataframe thead th {\n",
              "        text-align: right;\n",
              "    }\n",
              "</style>\n",
              "<table border=\"1\" class=\"dataframe\">\n",
              "  <thead>\n",
              "    <tr style=\"text-align: right;\">\n",
              "      <th></th>\n",
              "      <th>user_id</th>\n",
              "      <th>group</th>\n",
              "      <th>landing_page</th>\n",
              "      <th>time_spent_on_the_page</th>\n",
              "      <th>converted</th>\n",
              "      <th>language_preferred</th>\n",
              "    </tr>\n",
              "  </thead>\n",
              "  <tbody>\n",
              "    <tr>\n",
              "      <th>95</th>\n",
              "      <td>546446</td>\n",
              "      <td>treatment</td>\n",
              "      <td>new</td>\n",
              "      <td>5.15</td>\n",
              "      <td>no</td>\n",
              "      <td>Spanish</td>\n",
              "    </tr>\n",
              "    <tr>\n",
              "      <th>96</th>\n",
              "      <td>546544</td>\n",
              "      <td>control</td>\n",
              "      <td>old</td>\n",
              "      <td>6.52</td>\n",
              "      <td>yes</td>\n",
              "      <td>English</td>\n",
              "    </tr>\n",
              "    <tr>\n",
              "      <th>97</th>\n",
              "      <td>546472</td>\n",
              "      <td>treatment</td>\n",
              "      <td>new</td>\n",
              "      <td>7.07</td>\n",
              "      <td>yes</td>\n",
              "      <td>Spanish</td>\n",
              "    </tr>\n",
              "    <tr>\n",
              "      <th>98</th>\n",
              "      <td>546481</td>\n",
              "      <td>treatment</td>\n",
              "      <td>new</td>\n",
              "      <td>6.20</td>\n",
              "      <td>yes</td>\n",
              "      <td>Spanish</td>\n",
              "    </tr>\n",
              "    <tr>\n",
              "      <th>99</th>\n",
              "      <td>546483</td>\n",
              "      <td>treatment</td>\n",
              "      <td>new</td>\n",
              "      <td>5.86</td>\n",
              "      <td>yes</td>\n",
              "      <td>English</td>\n",
              "    </tr>\n",
              "  </tbody>\n",
              "</table>\n",
              "</div>\n",
              "      <button class=\"colab-df-convert\" onclick=\"convertToInteractive('df-72417423-6d19-4843-8eb2-a2fe921b1667')\"\n",
              "              title=\"Convert this dataframe to an interactive table.\"\n",
              "              style=\"display:none;\">\n",
              "        \n",
              "  <svg xmlns=\"http://www.w3.org/2000/svg\" height=\"24px\"viewBox=\"0 0 24 24\"\n",
              "       width=\"24px\">\n",
              "    <path d=\"M0 0h24v24H0V0z\" fill=\"none\"/>\n",
              "    <path d=\"M18.56 5.44l.94 2.06.94-2.06 2.06-.94-2.06-.94-.94-2.06-.94 2.06-2.06.94zm-11 1L8.5 8.5l.94-2.06 2.06-.94-2.06-.94L8.5 2.5l-.94 2.06-2.06.94zm10 10l.94 2.06.94-2.06 2.06-.94-2.06-.94-.94-2.06-.94 2.06-2.06.94z\"/><path d=\"M17.41 7.96l-1.37-1.37c-.4-.4-.92-.59-1.43-.59-.52 0-1.04.2-1.43.59L10.3 9.45l-7.72 7.72c-.78.78-.78 2.05 0 2.83L4 21.41c.39.39.9.59 1.41.59.51 0 1.02-.2 1.41-.59l7.78-7.78 2.81-2.81c.8-.78.8-2.07 0-2.86zM5.41 20L4 18.59l7.72-7.72 1.47 1.35L5.41 20z\"/>\n",
              "  </svg>\n",
              "      </button>\n",
              "      \n",
              "  <style>\n",
              "    .colab-df-container {\n",
              "      display:flex;\n",
              "      flex-wrap:wrap;\n",
              "      gap: 12px;\n",
              "    }\n",
              "\n",
              "    .colab-df-convert {\n",
              "      background-color: #E8F0FE;\n",
              "      border: none;\n",
              "      border-radius: 50%;\n",
              "      cursor: pointer;\n",
              "      display: none;\n",
              "      fill: #1967D2;\n",
              "      height: 32px;\n",
              "      padding: 0 0 0 0;\n",
              "      width: 32px;\n",
              "    }\n",
              "\n",
              "    .colab-df-convert:hover {\n",
              "      background-color: #E2EBFA;\n",
              "      box-shadow: 0px 1px 2px rgba(60, 64, 67, 0.3), 0px 1px 3px 1px rgba(60, 64, 67, 0.15);\n",
              "      fill: #174EA6;\n",
              "    }\n",
              "\n",
              "    [theme=dark] .colab-df-convert {\n",
              "      background-color: #3B4455;\n",
              "      fill: #D2E3FC;\n",
              "    }\n",
              "\n",
              "    [theme=dark] .colab-df-convert:hover {\n",
              "      background-color: #434B5C;\n",
              "      box-shadow: 0px 1px 3px 1px rgba(0, 0, 0, 0.15);\n",
              "      filter: drop-shadow(0px 1px 2px rgba(0, 0, 0, 0.3));\n",
              "      fill: #FFFFFF;\n",
              "    }\n",
              "  </style>\n",
              "\n",
              "      <script>\n",
              "        const buttonEl =\n",
              "          document.querySelector('#df-72417423-6d19-4843-8eb2-a2fe921b1667 button.colab-df-convert');\n",
              "        buttonEl.style.display =\n",
              "          google.colab.kernel.accessAllowed ? 'block' : 'none';\n",
              "\n",
              "        async function convertToInteractive(key) {\n",
              "          const element = document.querySelector('#df-72417423-6d19-4843-8eb2-a2fe921b1667');\n",
              "          const dataTable =\n",
              "            await google.colab.kernel.invokeFunction('convertToInteractive',\n",
              "                                                     [key], {});\n",
              "          if (!dataTable) return;\n",
              "\n",
              "          const docLinkHtml = 'Like what you see? Visit the ' +\n",
              "            '<a target=\"_blank\" href=https://colab.research.google.com/notebooks/data_table.ipynb>data table notebook</a>'\n",
              "            + ' to learn more about interactive tables.';\n",
              "          element.innerHTML = '';\n",
              "          dataTable['output_type'] = 'display_data';\n",
              "          await google.colab.output.renderOutput(dataTable, element);\n",
              "          const docLink = document.createElement('div');\n",
              "          docLink.innerHTML = docLinkHtml;\n",
              "          element.appendChild(docLink);\n",
              "        }\n",
              "      </script>\n",
              "    </div>\n",
              "  </div>\n",
              "  "
            ]
          },
          "metadata": {},
          "execution_count": 4
        }
      ]
    },
    {
      "cell_type": "code",
      "source": [
        "# view the shape of the dataset\n",
        "df.shape"
      ],
      "metadata": {
        "colab": {
          "base_uri": "https://localhost:8080/"
        },
        "id": "XZMrXUhXFJYK",
        "outputId": "57d73995-22d0-4f4a-b4d8-ab7d485de2c2"
      },
      "id": "XZMrXUhXFJYK",
      "execution_count": null,
      "outputs": [
        {
          "output_type": "execute_result",
          "data": {
            "text/plain": [
              "(100, 6)"
            ]
          },
          "metadata": {},
          "execution_count": 5
        }
      ]
    },
    {
      "cell_type": "markdown",
      "source": [
        "This data set has 100 rows and 6 columns"
      ],
      "metadata": {
        "id": "oh7kPNPOFYzw"
      },
      "id": "oh7kPNPOFYzw"
    },
    {
      "cell_type": "code",
      "source": [
        "# check the data types of the columns in the dataset\n",
        "df.info()"
      ],
      "metadata": {
        "colab": {
          "base_uri": "https://localhost:8080/"
        },
        "id": "avtgAgBXFKr_",
        "outputId": "d24ea32b-e7b0-48b7-cb30-58b5943d90b3"
      },
      "id": "avtgAgBXFKr_",
      "execution_count": null,
      "outputs": [
        {
          "output_type": "stream",
          "name": "stdout",
          "text": [
            "<class 'pandas.core.frame.DataFrame'>\n",
            "RangeIndex: 100 entries, 0 to 99\n",
            "Data columns (total 6 columns):\n",
            " #   Column                  Non-Null Count  Dtype  \n",
            "---  ------                  --------------  -----  \n",
            " 0   user_id                 100 non-null    int64  \n",
            " 1   group                   100 non-null    object \n",
            " 2   landing_page            100 non-null    object \n",
            " 3   time_spent_on_the_page  100 non-null    float64\n",
            " 4   converted               100 non-null    object \n",
            " 5   language_preferred      100 non-null    object \n",
            "dtypes: float64(1), int64(1), object(4)\n",
            "memory usage: 4.8+ KB\n"
          ]
        }
      ]
    },
    {
      "cell_type": "markdown",
      "source": [
        "No missing values in the dataset\n"
      ],
      "metadata": {
        "id": "0dqPLV4YFfHK"
      },
      "id": "0dqPLV4YFfHK"
    },
    {
      "cell_type": "code",
      "source": [
        "#Statistical summary for the numerical variables\n",
        "df['time_spent_on_the_page'].describe()"
      ],
      "metadata": {
        "colab": {
          "base_uri": "https://localhost:8080/"
        },
        "id": "itSZuDPHFNBZ",
        "outputId": "ea5a2172-6c19-4a03-8f39-0b3bf4fa1c9b"
      },
      "id": "itSZuDPHFNBZ",
      "execution_count": null,
      "outputs": [
        {
          "output_type": "execute_result",
          "data": {
            "text/plain": [
              "count    100.000000\n",
              "mean       5.377800\n",
              "std        2.378166\n",
              "min        0.190000\n",
              "25%        3.880000\n",
              "50%        5.415000\n",
              "75%        7.022500\n",
              "max       10.710000\n",
              "Name: time_spent_on_the_page, dtype: float64"
            ]
          },
          "metadata": {},
          "execution_count": 7
        }
      ]
    },
    {
      "cell_type": "markdown",
      "source": [
        "The average time spent on both page types is 5.37 minutes."
      ],
      "metadata": {
        "id": "-wcDrZDMFjsC"
      },
      "id": "-wcDrZDMFjsC"
    },
    {
      "cell_type": "code",
      "source": [
        "#Statistical summary for the categorical variables\n",
        "df.describe(include ='object')"
      ],
      "metadata": {
        "colab": {
          "base_uri": "https://localhost:8080/",
          "height": 175
        },
        "id": "VrKsNu-uFPH-",
        "outputId": "0550544b-23a4-4fd9-e9b0-71124aa3ae66"
      },
      "id": "VrKsNu-uFPH-",
      "execution_count": null,
      "outputs": [
        {
          "output_type": "execute_result",
          "data": {
            "text/plain": [
              "          group landing_page converted language_preferred\n",
              "count       100          100       100                100\n",
              "unique        2            2         2                  3\n",
              "top     control          old       yes            Spanish\n",
              "freq         50           50        54                 34"
            ],
            "text/html": [
              "\n",
              "  <div id=\"df-05e267c5-2d80-4ae3-82eb-65e916e195c7\">\n",
              "    <div class=\"colab-df-container\">\n",
              "      <div>\n",
              "<style scoped>\n",
              "    .dataframe tbody tr th:only-of-type {\n",
              "        vertical-align: middle;\n",
              "    }\n",
              "\n",
              "    .dataframe tbody tr th {\n",
              "        vertical-align: top;\n",
              "    }\n",
              "\n",
              "    .dataframe thead th {\n",
              "        text-align: right;\n",
              "    }\n",
              "</style>\n",
              "<table border=\"1\" class=\"dataframe\">\n",
              "  <thead>\n",
              "    <tr style=\"text-align: right;\">\n",
              "      <th></th>\n",
              "      <th>group</th>\n",
              "      <th>landing_page</th>\n",
              "      <th>converted</th>\n",
              "      <th>language_preferred</th>\n",
              "    </tr>\n",
              "  </thead>\n",
              "  <tbody>\n",
              "    <tr>\n",
              "      <th>count</th>\n",
              "      <td>100</td>\n",
              "      <td>100</td>\n",
              "      <td>100</td>\n",
              "      <td>100</td>\n",
              "    </tr>\n",
              "    <tr>\n",
              "      <th>unique</th>\n",
              "      <td>2</td>\n",
              "      <td>2</td>\n",
              "      <td>2</td>\n",
              "      <td>3</td>\n",
              "    </tr>\n",
              "    <tr>\n",
              "      <th>top</th>\n",
              "      <td>control</td>\n",
              "      <td>old</td>\n",
              "      <td>yes</td>\n",
              "      <td>Spanish</td>\n",
              "    </tr>\n",
              "    <tr>\n",
              "      <th>freq</th>\n",
              "      <td>50</td>\n",
              "      <td>50</td>\n",
              "      <td>54</td>\n",
              "      <td>34</td>\n",
              "    </tr>\n",
              "  </tbody>\n",
              "</table>\n",
              "</div>\n",
              "      <button class=\"colab-df-convert\" onclick=\"convertToInteractive('df-05e267c5-2d80-4ae3-82eb-65e916e195c7')\"\n",
              "              title=\"Convert this dataframe to an interactive table.\"\n",
              "              style=\"display:none;\">\n",
              "        \n",
              "  <svg xmlns=\"http://www.w3.org/2000/svg\" height=\"24px\"viewBox=\"0 0 24 24\"\n",
              "       width=\"24px\">\n",
              "    <path d=\"M0 0h24v24H0V0z\" fill=\"none\"/>\n",
              "    <path d=\"M18.56 5.44l.94 2.06.94-2.06 2.06-.94-2.06-.94-.94-2.06-.94 2.06-2.06.94zm-11 1L8.5 8.5l.94-2.06 2.06-.94-2.06-.94L8.5 2.5l-.94 2.06-2.06.94zm10 10l.94 2.06.94-2.06 2.06-.94-2.06-.94-.94-2.06-.94 2.06-2.06.94z\"/><path d=\"M17.41 7.96l-1.37-1.37c-.4-.4-.92-.59-1.43-.59-.52 0-1.04.2-1.43.59L10.3 9.45l-7.72 7.72c-.78.78-.78 2.05 0 2.83L4 21.41c.39.39.9.59 1.41.59.51 0 1.02-.2 1.41-.59l7.78-7.78 2.81-2.81c.8-.78.8-2.07 0-2.86zM5.41 20L4 18.59l7.72-7.72 1.47 1.35L5.41 20z\"/>\n",
              "  </svg>\n",
              "      </button>\n",
              "      \n",
              "  <style>\n",
              "    .colab-df-container {\n",
              "      display:flex;\n",
              "      flex-wrap:wrap;\n",
              "      gap: 12px;\n",
              "    }\n",
              "\n",
              "    .colab-df-convert {\n",
              "      background-color: #E8F0FE;\n",
              "      border: none;\n",
              "      border-radius: 50%;\n",
              "      cursor: pointer;\n",
              "      display: none;\n",
              "      fill: #1967D2;\n",
              "      height: 32px;\n",
              "      padding: 0 0 0 0;\n",
              "      width: 32px;\n",
              "    }\n",
              "\n",
              "    .colab-df-convert:hover {\n",
              "      background-color: #E2EBFA;\n",
              "      box-shadow: 0px 1px 2px rgba(60, 64, 67, 0.3), 0px 1px 3px 1px rgba(60, 64, 67, 0.15);\n",
              "      fill: #174EA6;\n",
              "    }\n",
              "\n",
              "    [theme=dark] .colab-df-convert {\n",
              "      background-color: #3B4455;\n",
              "      fill: #D2E3FC;\n",
              "    }\n",
              "\n",
              "    [theme=dark] .colab-df-convert:hover {\n",
              "      background-color: #434B5C;\n",
              "      box-shadow: 0px 1px 3px 1px rgba(0, 0, 0, 0.15);\n",
              "      filter: drop-shadow(0px 1px 2px rgba(0, 0, 0, 0.3));\n",
              "      fill: #FFFFFF;\n",
              "    }\n",
              "  </style>\n",
              "\n",
              "      <script>\n",
              "        const buttonEl =\n",
              "          document.querySelector('#df-05e267c5-2d80-4ae3-82eb-65e916e195c7 button.colab-df-convert');\n",
              "        buttonEl.style.display =\n",
              "          google.colab.kernel.accessAllowed ? 'block' : 'none';\n",
              "\n",
              "        async function convertToInteractive(key) {\n",
              "          const element = document.querySelector('#df-05e267c5-2d80-4ae3-82eb-65e916e195c7');\n",
              "          const dataTable =\n",
              "            await google.colab.kernel.invokeFunction('convertToInteractive',\n",
              "                                                     [key], {});\n",
              "          if (!dataTable) return;\n",
              "\n",
              "          const docLinkHtml = 'Like what you see? Visit the ' +\n",
              "            '<a target=\"_blank\" href=https://colab.research.google.com/notebooks/data_table.ipynb>data table notebook</a>'\n",
              "            + ' to learn more about interactive tables.';\n",
              "          element.innerHTML = '';\n",
              "          dataTable['output_type'] = 'display_data';\n",
              "          await google.colab.output.renderOutput(dataTable, element);\n",
              "          const docLink = document.createElement('div');\n",
              "          docLink.innerHTML = docLinkHtml;\n",
              "          element.appendChild(docLink);\n",
              "        }\n",
              "      </script>\n",
              "    </div>\n",
              "  </div>\n",
              "  "
            ]
          },
          "metadata": {},
          "execution_count": 8
        }
      ]
    },
    {
      "cell_type": "markdown",
      "source": [
        "There are are 2 types of groups (control and treatment), 2 different landing pages(old and new), across 3 preferred languages (Spanish, English, and French)\n"
      ],
      "metadata": {
        "id": "8EcuWm_fFo92"
      },
      "id": "8EcuWm_fFo92"
    },
    {
      "cell_type": "code",
      "source": [
        "#Check for missing values\n",
        "df.isna().count()\n"
      ],
      "metadata": {
        "colab": {
          "base_uri": "https://localhost:8080/"
        },
        "id": "8IPoCE1ZFRSw",
        "outputId": "b649d5fb-a1a0-4aba-a579-1a8d047c3022"
      },
      "id": "8IPoCE1ZFRSw",
      "execution_count": null,
      "outputs": [
        {
          "output_type": "execute_result",
          "data": {
            "text/plain": [
              "user_id                   100\n",
              "group                     100\n",
              "landing_page              100\n",
              "time_spent_on_the_page    100\n",
              "converted                 100\n",
              "language_preferred        100\n",
              "dtype: int64"
            ]
          },
          "metadata": {},
          "execution_count": 9
        }
      ]
    },
    {
      "cell_type": "markdown",
      "source": [
        "There are no missing values\n"
      ],
      "metadata": {
        "id": "p5ZvGNTXFsMO"
      },
      "id": "p5ZvGNTXFsMO"
    },
    {
      "cell_type": "code",
      "source": [
        "#Check for duplicates\n",
        "df.duplicated(subset = 'user_id', keep = False).value_counts()"
      ],
      "metadata": {
        "colab": {
          "base_uri": "https://localhost:8080/"
        },
        "id": "zhywBozcFTEy",
        "outputId": "9e257359-d7d0-49a3-efd5-0f10b6dae8b4"
      },
      "id": "zhywBozcFTEy",
      "execution_count": null,
      "outputs": [
        {
          "output_type": "execute_result",
          "data": {
            "text/plain": [
              "False    100\n",
              "dtype: int64"
            ]
          },
          "metadata": {},
          "execution_count": 10
        }
      ]
    },
    {
      "cell_type": "markdown",
      "source": [
        "There are no duplicates in the datase as implied by the 100 false values.\n"
      ],
      "metadata": {
        "id": "MHbFGqcvFxTR"
      },
      "id": "MHbFGqcvFxTR"
    },
    {
      "cell_type": "markdown",
      "metadata": {
        "id": "68f3b2c9"
      },
      "source": [
        "### Univariate Analysis"
      ],
      "id": "68f3b2c9"
    },
    {
      "cell_type": "code",
      "metadata": {
        "id": "1932d0f3",
        "colab": {
          "base_uri": "https://localhost:8080/",
          "height": 543
        },
        "outputId": "de431421-4240-4f3e-fddf-3dfeea648344"
      },
      "source": [
        "# time spent on page (in minutes)\n",
        "sns.histplot(data=df,x='time_spent_on_the_page')\n",
        "plt.show()\n",
        "sns.boxplot(data=df,x='time_spent_on_the_page')\n",
        "plt.show()"
      ],
      "id": "1932d0f3",
      "execution_count": null,
      "outputs": [
        {
          "output_type": "display_data",
          "data": {
            "text/plain": [
              "<Figure size 432x288 with 1 Axes>"
            ],
            "image/png": "[encoded data removed]"
          },
          "metadata": {
            "needs_background": "light"
          }
        },
        {
          "output_type": "display_data",
          "data": {
            "text/plain": [
              "<Figure size 432x288 with 1 Axes>"
            ],
            "image/png": "[encoded data removed]"
          },
          "metadata": {
            "needs_background": "light"
          }
        }
      ]
    },
    {
      "cell_type": "markdown",
      "source": [
        "The histogram shows a normal distribution with little to no skewness. The boxplot futher supports that indication with relatively equal length whiskers and no extreme outliers."
      ],
      "metadata": {
        "id": "qJVEk-wlF6zw"
      },
      "id": "qJVEk-wlF6zw"
    },
    {
      "cell_type": "code",
      "source": [
        "df['group'].value_counts()"
      ],
      "metadata": {
        "colab": {
          "base_uri": "https://localhost:8080/"
        },
        "id": "tbGwuU91F89S",
        "outputId": "31c99b9e-da94-4305-eeb7-da1a7e5debeb"
      },
      "id": "tbGwuU91F89S",
      "execution_count": null,
      "outputs": [
        {
          "output_type": "execute_result",
          "data": {
            "text/plain": [
              "control      50\n",
              "treatment    50\n",
              "Name: group, dtype: int64"
            ]
          },
          "metadata": {},
          "execution_count": 11
        }
      ]
    },
    {
      "cell_type": "markdown",
      "source": [
        "There are an equal amount of users in both the control and treatment groups.\n"
      ],
      "metadata": {
        "id": "1Zkm62NXGB1i"
      },
      "id": "1Zkm62NXGB1i"
    },
    {
      "cell_type": "markdown",
      "source": [
        "**Group (control/treatment)**"
      ],
      "metadata": {
        "id": "_pve6eLvGdGU"
      },
      "id": "_pve6eLvGdGU"
    },
    {
      "cell_type": "code",
      "source": [
        "# Countplot for each group type\n",
        "sns.countplot(data=df,x='group')\n",
        "plt.show()"
      ],
      "metadata": {
        "colab": {
          "base_uri": "https://localhost:8080/",
          "height": 279
        },
        "id": "MhdzDqcsGDlE",
        "outputId": "3a8f7df7-e919-48b2-a36d-4bb3fcda86b6"
      },
      "id": "MhdzDqcsGDlE",
      "execution_count": null,
      "outputs": [
        {
          "output_type": "display_data",
          "data": {
            "text/plain": [
              "<Figure size 432x288 with 1 Axes>"
            ],
            "image/png": "[encoded data removed]"
          },
          "metadata": {
            "needs_background": "light"
          }
        }
      ]
    },
    {
      "cell_type": "markdown",
      "source": [
        "**Landing Page**"
      ],
      "metadata": {
        "id": "fvYwNCcMGq4h"
      },
      "id": "fvYwNCcMGq4h"
    },
    {
      "cell_type": "code",
      "source": [
        "df['landing_page'].value_counts()"
      ],
      "metadata": {
        "colab": {
          "base_uri": "https://localhost:8080/"
        },
        "id": "gENFwdeIGKkG",
        "outputId": "c60f683a-3d73-41be-e674-1bff713edb44"
      },
      "id": "gENFwdeIGKkG",
      "execution_count": null,
      "outputs": [
        {
          "output_type": "execute_result",
          "data": {
            "text/plain": [
              "old    50\n",
              "new    50\n",
              "Name: landing_page, dtype: int64"
            ]
          },
          "metadata": {},
          "execution_count": 13
        }
      ]
    },
    {
      "cell_type": "code",
      "source": [
        "# Countplot for each landing page\n",
        "sns.countplot(data=df,x=\"landing_page\")\n",
        "plt.show()"
      ],
      "metadata": {
        "colab": {
          "base_uri": "https://localhost:8080/",
          "height": 280
        },
        "id": "JNBuRtnkGOaB",
        "outputId": "2cc293d5-eca9-4aab-a776-eb9de1369467"
      },
      "id": "JNBuRtnkGOaB",
      "execution_count": null,
      "outputs": [
        {
          "output_type": "display_data",
          "data": {
            "text/plain": [
              "<Figure size 432x288 with 1 Axes>"
            ],
            "image/png": "[encoded data removed]"
          },
          "metadata": {
            "needs_background": "light"
          }
        }
      ]
    },
    {
      "cell_type": "markdown",
      "source": [
        "**Converted (y/n)**"
      ],
      "metadata": {
        "id": "T6Iq56DqHNqq"
      },
      "id": "T6Iq56DqHNqq"
    },
    {
      "cell_type": "code",
      "source": [
        "sns.countplot(data=df,x=\"converted\")\n",
        "plt.show()"
      ],
      "metadata": {
        "colab": {
          "base_uri": "https://localhost:8080/",
          "height": 279
        },
        "id": "_0k9UKhvHWIo",
        "outputId": "c6dc53d2-5853-410e-c3cd-bbb042832211"
      },
      "id": "_0k9UKhvHWIo",
      "execution_count": null,
      "outputs": [
        {
          "output_type": "display_data",
          "data": {
            "text/plain": [
              "<Figure size 432x288 with 1 Axes>"
            ],
            "image/png": "[encoded data removed]"
          },
          "metadata": {
            "needs_background": "light"
          }
        }
      ]
    },
    {
      "cell_type": "markdown",
      "source": [
        "Around 54% were converted"
      ],
      "metadata": {
        "id": "kN3pKdpDHZZg"
      },
      "id": "kN3pKdpDHZZg"
    },
    {
      "cell_type": "markdown",
      "source": [
        "**Language Preferred**"
      ],
      "metadata": {
        "id": "SLKQGv4QHluK"
      },
      "id": "SLKQGv4QHluK"
    },
    {
      "cell_type": "code",
      "source": [
        "df['language_preferred'].value_counts()"
      ],
      "metadata": {
        "colab": {
          "base_uri": "https://localhost:8080/"
        },
        "id": "gbKn7A1eHr1g",
        "outputId": "fe9570b7-6741-4b3e-8d0d-8ae41a4b83ec"
      },
      "id": "gbKn7A1eHr1g",
      "execution_count": null,
      "outputs": [
        {
          "output_type": "execute_result",
          "data": {
            "text/plain": [
              "Spanish    34\n",
              "French     34\n",
              "English    32\n",
              "Name: language_preferred, dtype: int64"
            ]
          },
          "metadata": {},
          "execution_count": 17
        }
      ]
    },
    {
      "cell_type": "markdown",
      "source": [],
      "metadata": {
        "id": "1qn5VXF7HSIj"
      },
      "id": "1qn5VXF7HSIj"
    },
    {
      "cell_type": "markdown",
      "source": [
        "The lanaguage is distributed almost equally among 3 languages. "
      ],
      "metadata": {
        "id": "jRXeJOjxHvzs"
      },
      "id": "jRXeJOjxHvzs"
    },
    {
      "cell_type": "code",
      "source": [
        "sns.countplot(data=df,x='language_preferred')\n",
        "plt.show()"
      ],
      "metadata": {
        "colab": {
          "base_uri": "https://localhost:8080/",
          "height": 280
        },
        "id": "OzwxSP2eH4_p",
        "outputId": "280d4b1a-268a-48f6-e2d4-1ea4c670c2a6"
      },
      "id": "OzwxSP2eH4_p",
      "execution_count": null,
      "outputs": [
        {
          "output_type": "display_data",
          "data": {
            "text/plain": [
              "<Figure size 432x288 with 1 Axes>"
            ],
            "image/png": "[encoded data removed]"
          },
          "metadata": {
            "needs_background": "light"
          }
        }
      ]
    },
    {
      "cell_type": "markdown",
      "source": [
        "spanish and french are 35%, while english is 32%"
      ],
      "metadata": {
        "id": "A9rPeob4IF_e"
      },
      "id": "A9rPeob4IF_e"
    },
    {
      "cell_type": "markdown",
      "metadata": {
        "id": "fad2de2f"
      },
      "source": [
        "### Bivariate Analysis"
      ],
      "id": "fad2de2f"
    },
    {
      "cell_type": "code",
      "metadata": {
        "id": "58e9a1d0",
        "colab": {
          "base_uri": "https://localhost:8080/",
          "height": 389
        },
        "outputId": "3481e366-a51e-485a-e3ca-61b35f4b6233"
      },
      "source": [
        "# time spent on the new vs. old landing page\n",
        "plt.figure(figsize=(10,6))\n",
        "sns.boxplot(data=df,x='landing_page',y='time_spent_on_the_page')\n",
        "plt.show()"
      ],
      "id": "58e9a1d0",
      "execution_count": null,
      "outputs": [
        {
          "output_type": "display_data",
          "data": {
            "text/plain": [
              "<Figure size 720x432 with 1 Axes>"
            ],
            "image/png": "[encoded data removed]"
          },
          "metadata": {
            "needs_background": "light"
          }
        }
      ]
    },
    {
      "cell_type": "markdown",
      "source": [
        "Based of the plot we can see that the average and maximum time spent on the new landing page is greater than that of the old landing page\n"
      ],
      "metadata": {
        "id": "9kkDXtrfIZOX"
      },
      "id": "9kkDXtrfIZOX"
    },
    {
      "cell_type": "code",
      "source": [
        "# relationship between users who converted and the time spent on the page\n",
        "plt.figure(figsize=(9, 9))\n",
        "sns.boxplot(data=df,x='converted',y='time_spent_on_the_page')\n",
        "plt.show()"
      ],
      "metadata": {
        "colab": {
          "base_uri": "https://localhost:8080/",
          "height": 551
        },
        "id": "ReRh89W1JOzu",
        "outputId": "b5599a71-7b11-4a9a-b579-0f264ed7d7dd"
      },
      "id": "ReRh89W1JOzu",
      "execution_count": null,
      "outputs": [
        {
          "output_type": "display_data",
          "data": {
            "text/plain": [
              "<Figure size 648x648 with 1 Axes>"
            ],
            "image/png": "[encoded data removed]"
          },
          "metadata": {
            "needs_background": "light"
          }
        }
      ]
    },
    {
      "cell_type": "markdown",
      "source": [
        "Those who converted spent more time on their respective pages\n"
      ],
      "metadata": {
        "id": "AKWN5RrlJYfQ"
      },
      "id": "AKWN5RrlJYfQ"
    },
    {
      "cell_type": "code",
      "source": [
        "#Shows the relationship between preferred language and time spent on page\n",
        "plt.figure(figsize=(9, 9))\n",
        "sns.boxplot(data = df, x = 'time_spent_on_the_page', y = 'language_preferred')\n",
        "plt.show()"
      ],
      "metadata": {
        "colab": {
          "base_uri": "https://localhost:8080/",
          "height": 552
        },
        "id": "wOFkJp8IJa3E",
        "outputId": "3df2097a-5d8d-4c9a-e5ee-d18845136c2b"
      },
      "id": "wOFkJp8IJa3E",
      "execution_count": null,
      "outputs": [
        {
          "output_type": "display_data",
          "data": {
            "text/plain": [
              "<Figure size 648x648 with 1 Axes>"
            ],
            "image/png": "[encoded data removed]"
          },
          "metadata": {
            "needs_background": "light"
          }
        }
      ]
    },
    {
      "cell_type": "markdown",
      "source": [
        "On average, all preferred languages spend about the same median time (~5-6 minutes) on their respective pages\n"
      ],
      "metadata": {
        "id": "3-MxYgZ2JepV"
      },
      "id": "3-MxYgZ2JepV"
    },
    {
      "cell_type": "markdown",
      "metadata": {
        "id": "27906576"
      },
      "source": [
        "## 1. Do the users spend more time on the new landing page than the existing landing page?"
      ],
      "id": "27906576"
    },
    {
      "cell_type": "markdown",
      "metadata": {
        "id": "e5fdf0c8"
      },
      "source": [
        "### Perform Visual Analysis"
      ],
      "id": "e5fdf0c8"
    },
    {
      "cell_type": "code",
      "metadata": {
        "id": "6eZJa41eg21n",
        "colab": {
          "base_uri": "https://localhost:8080/",
          "height": 389
        },
        "outputId": "e6b5d55f-0de9-4e83-8863-a3204b864c3c"
      },
      "source": [
        "plt.figure(figsize=(8,6))\n",
        "sns.boxplot(x = 'landing_page', y = 'time_spent_on_the_page', data = df)\n",
        "plt.show()"
      ],
      "id": "6eZJa41eg21n",
      "execution_count": null,
      "outputs": [
        {
          "output_type": "display_data",
          "data": {
            "text/plain": [
              "<Figure size 576x432 with 1 Axes>"
            ],
            "image/png": "[encoded data removed]"
          },
          "metadata": {
            "needs_background": "light"
          }
        }
      ]
    },
    {
      "cell_type": "markdown",
      "metadata": {
        "id": "56b3dafd"
      },
      "source": [
        "### Step 1: Define the null and alternate hypotheses"
      ],
      "id": "56b3dafd"
    },
    {
      "cell_type": "markdown",
      "metadata": {
        "id": "d2ac77ef"
      },
      "source": [
        "$H_{0}$: $ u_{1} $ - $u_{2}$ = 0\n",
        "\n",
        "$H_{A}$: $ u_{1} $ - $u_{2}$ > 0\n",
        "\n",
        "Where u1 is the true average time spent on the new landing page and u2 is the true average time spent on the old landing page"
      ],
      "id": "d2ac77ef"
    },
    {
      "cell_type": "markdown",
      "source": [],
      "metadata": {
        "id": "bnSIsN_HKibT"
      },
      "id": "bnSIsN_HKibT"
    },
    {
      "cell_type": "markdown",
      "metadata": {
        "id": "c7ee4907"
      },
      "source": [
        "### Step 2: Select Appropriate test"
      ],
      "id": "c7ee4907"
    },
    {
      "cell_type": "markdown",
      "metadata": {
        "id": "2c183cd7"
      },
      "source": [
        "This is a one-tailed test concerning two population means from two independent populations. The population standard deviations are unknown. Based on this information, we will perform a 2 sample T-test.\n",
        "\n"
      ],
      "id": "2c183cd7"
    },
    {
      "cell_type": "markdown",
      "metadata": {
        "id": "3f58c9a7"
      },
      "source": [
        "### Step 3: Decide the significance level"
      ],
      "id": "3f58c9a7"
    },
    {
      "cell_type": "markdown",
      "metadata": {
        "id": "92d7d7ee"
      },
      "source": [
        "As given in the problem statement, we select  𝛼=0.05 ."
      ],
      "id": "92d7d7ee"
    },
    {
      "cell_type": "markdown",
      "metadata": {
        "id": "5fed2eac"
      },
      "source": [
        "### Step 4: Collect and prepare data"
      ],
      "id": "5fed2eac"
    },
    {
      "cell_type": "code",
      "metadata": {
        "id": "f5a59495"
      },
      "source": [
        "# create subsetted data frame for new landing page users \n",
        "time_spent_new = df[df['landing_page'] == 'new']['time_spent_on_the_page']\n",
        "\n",
        "# create subsetted data frame for old landing page users\n",
        "time_spent_old = df[df['landing_page'] == 'old']['time_spent_on_the_page'] \n"
      ],
      "id": "f5a59495",
      "execution_count": null,
      "outputs": []
    },
    {
      "cell_type": "code",
      "source": [
        "print('The sample standard deviation of the time spent on the new page is:', round(time_spent_new.std(),2))\n",
        "print('The sample standard deviation of the time spent on the old page is:', round(time_spent_old.std(),2))"
      ],
      "metadata": {
        "colab": {
          "base_uri": "https://localhost:8080/"
        },
        "id": "sOaHNvwCLOFF",
        "outputId": "e84796b2-7467-47fd-bd6b-5832324a43c9"
      },
      "id": "sOaHNvwCLOFF",
      "execution_count": null,
      "outputs": [
        {
          "output_type": "stream",
          "name": "stdout",
          "text": [
            "The sample standard deviation of the time spent on the new page is: 1.82\n",
            "The sample standard deviation of the time spent on the old page is: 2.58\n"
          ]
        }
      ]
    },
    {
      "cell_type": "markdown",
      "source": [
        "Although the sample standard deviations are different, since the sample sizes are large ( n > 30), the population standard deviations can be assumed to be equal.\n",
        "\n",
        "Assumptions:\n",
        "1. Normally distributed populations - Yes, we are informed that the populations are assumed to be normal.\n",
        "\n",
        "2. Independent populations - As we are taking random samples for two different groups, the two samples are from two independent populations.\n",
        "\n",
        "3. Unequal population standard deviations - As the sample standard deviations are different, the population standard deviations may be assumed to be different.\n",
        "\n",
        "4. Random sampling from the population - Yes, we are informed that the collected sample a simple random sample.\n"
      ],
      "metadata": {
        "id": "_vH4sgolLiaD"
      },
      "id": "_vH4sgolLiaD"
    },
    {
      "cell_type": "markdown",
      "metadata": {
        "id": "f5c5258d"
      },
      "source": [
        "### Step 5: Calculate the p-value"
      ],
      "id": "f5c5258d"
    },
    {
      "cell_type": "code",
      "metadata": {
        "id": "fac8594a",
        "colab": {
          "base_uri": "https://localhost:8080/"
        },
        "outputId": "21653451-30fd-47f7-d566-153da59cdc85"
      },
      "source": [
        "# Importing the required function\n",
        "import scipy.stats as stats\n",
        "\n",
        "# The code to calculate the p-value\n",
        "test_stat,p_value = stats.ttest_ind(time_spent_new, time_spent_old, equal_var = False, alternative = \"greater\")  \n",
        "\n",
        "print('The p-value is', p_value)"
      ],
      "id": "fac8594a",
      "execution_count": null,
      "outputs": [
        {
          "output_type": "stream",
          "name": "stdout",
          "text": [
            "The p-value is 0.0001392381225166549\n"
          ]
        }
      ]
    },
    {
      "cell_type": "markdown",
      "metadata": {
        "id": "359b12f8"
      },
      "source": [
        "### Step 6: Compare the p-value with $\\alpha$"
      ],
      "id": "359b12f8"
    },
    {
      "cell_type": "code",
      "metadata": {
        "id": "7be47289",
        "colab": {
          "base_uri": "https://localhost:8080/"
        },
        "outputId": "c5d1e75b-abd6-4355-e89a-f320e0dc5f50"
      },
      "source": [
        "if p_value < 0.05:\n",
        "    print(f'As the p-value {p_value} is less than the level of significance, we reject the null hypothesis.')\n",
        "else:\n",
        "    print(f'As the p-value {p_value} is greater than the level of significance, we fail to reject the null hypothesis.')"
      ],
      "id": "7be47289",
      "execution_count": null,
      "outputs": [
        {
          "output_type": "stream",
          "name": "stdout",
          "text": [
            "As the p-value 0.0001392381225166549 is less than the level of significance, we reject the null hypothesis.\n"
          ]
        }
      ]
    },
    {
      "cell_type": "markdown",
      "metadata": {
        "id": "d9affc84"
      },
      "source": [
        "### Step 7:  Draw inference"
      ],
      "id": "d9affc84"
    },
    {
      "cell_type": "markdown",
      "metadata": {
        "id": "6b16dd4b"
      },
      "source": [
        "Since the p-value is < 0.05, we can reject Ho (null hypothesis). There is suffcient evidence to say that the true mean time spent on the new landing page is greater than the time spent on the old landing page. "
      ],
      "id": "6b16dd4b"
    },
    {
      "cell_type": "markdown",
      "metadata": {
        "id": "1ad0823a"
      },
      "source": [
        "**A similar approach can be followed to answer the other questions.**"
      ],
      "id": "1ad0823a"
    },
    {
      "cell_type": "markdown",
      "metadata": {
        "id": "353e9d24"
      },
      "source": [
        "## 2. Is the conversion rate (the proportion of users who visit the landing page and get converted) for the new page greater than the conversion rate for the old page?"
      ],
      "id": "353e9d24"
    },
    {
      "cell_type": "code",
      "metadata": {
        "id": "b7f52898",
        "colab": {
          "base_uri": "https://localhost:8080/",
          "height": 771
        },
        "outputId": "7c2a71c8-51e9-47a1-8710-cdf7692c7651"
      },
      "source": [
        "# Visual comparison of the conversion rate for the new page and the conversion rate for the old page\n",
        "pd.crosstab(df['landing_page'],df['converted'],normalize='index').plot(kind=\"bar\", figsize=(6,8),stacked=True)\n",
        "plt.legend()\n",
        "plt.show()\n",
        "\n",
        "sns.countplot(data = df, x='landing_page',hue='converted');\n",
        "plt.show()"
      ],
      "id": "b7f52898",
      "execution_count": null,
      "outputs": [
        {
          "output_type": "display_data",
          "data": {
            "text/plain": [
              "<Figure size 432x576 with 1 Axes>"
            ],
            "image/png": "[encoded data removed]"
          },
          "metadata": {
            "needs_background": "light"
          }
        },
        {
          "output_type": "display_data",
          "data": {
            "text/plain": [
              "<Figure size 432x288 with 1 Axes>"
            ],
            "image/png": "[encoded data removed]"
          },
          "metadata": {
            "needs_background": "light"
          }
        }
      ]
    },
    {
      "cell_type": "markdown",
      "source": [
        "### Step 1: Define the null and alternate **hypotheses**"
      ],
      "metadata": {
        "id": "E3KhE5IjNkmk"
      },
      "id": "E3KhE5IjNkmk"
    },
    {
      "cell_type": "markdown",
      "source": [
        "$H_{0}$: $ π_{1} $ - $π_{2}$ = 0\n",
        "\n",
        "$H_{A}$: $ π_{1} $ - $π_{2}$ > 0\n",
        "\n",
        "Where π1 is the true proportion of converted subscribers on the new landing page and π2 is the true proportion of converted subscribers on the old landing page"
      ],
      "metadata": {
        "id": "QLXzK7AFN0aw"
      },
      "id": "QLXzK7AFN0aw"
    },
    {
      "cell_type": "markdown",
      "source": [
        "### Step 2: Select Test\n",
        "This is a one-tailed test concerning two population proportions from two independent populations. Based on this information, we will perform a 2 proportion Z test.\n",
        "\n"
      ],
      "metadata": {
        "id": "oEIJvc2gOOqF"
      },
      "id": "oEIJvc2gOOqF"
    },
    {
      "cell_type": "markdown",
      "source": [
        "### Step 3: Decide significance level\n",
        "As given in the problem statement, we select α = 0.05.\n",
        "\n",
        "\n"
      ],
      "metadata": {
        "id": "wACFItISOhRV"
      },
      "id": "wACFItISOhRV"
    },
    {
      "cell_type": "markdown",
      "source": [
        "### Step 4: collect/prepare data\n"
      ],
      "metadata": {
        "id": "bD656toQOrK7"
      },
      "id": "bD656toQOrK7"
    },
    {
      "cell_type": "code",
      "source": [
        "#calculate the number of converted users in the treatment group\n",
        "new_converted = df[df['group'] == 'treatment']['converted'].value_counts()['yes']\n",
        "# calculate the number of converted users in the control group\n",
        "old_converted = df[df['group'] == 'control']['converted'].value_counts()['yes'] \n",
        "\n",
        "tot_control = df.group.value_counts()['control'] # total number of users in the control group\n",
        "tot_treatment = df.group.value_counts()['treatment'] # total number of users in the treatment group\n",
        "\n",
        "print('The numbers of users served the new and old pages are {0} and {1} respectively'.format(tot_control, tot_treatment ))"
      ],
      "metadata": {
        "colab": {
          "base_uri": "https://localhost:8080/"
        },
        "id": "e7C66w5FOzl2",
        "outputId": "b0a6ef07-9f48-4b8e-cca6-daeb1efe50e8"
      },
      "id": "e7C66w5FOzl2",
      "execution_count": null,
      "outputs": [
        {
          "output_type": "stream",
          "name": "stdout",
          "text": [
            "The numbers of users served the new and old pages are 50 and 50 respectively\n"
          ]
        }
      ]
    },
    {
      "cell_type": "markdown",
      "source": [
        "1. Binomally distributed population - Yes, a product is either defective or non-defective.\n",
        "2. Random sampling from the population - Yes, we are informed that the collected sample is a simple random sample.\n",
        "3. Can the binomial distribution approximated to normal distribution - Yes. For binary data, CLT works slower than usual. The standard thing is to check whether np and n(1-p) are greater than or equal to 10. Here, n and p refer to the sample size and sample proportion respectively.\n",
        "\n",
        "\n",
        "\n",
        "*   33/50 * 200 and\n",
        "1- (33/50) * 200\n",
        "\n",
        "\n",
        "*   21/50 * 200 and\n",
        "1- (21/50) * 200\n",
        "\n",
        "\n",
        "\n"
      ],
      "metadata": {
        "id": "USErV6dqQu2n"
      },
      "id": "USErV6dqQu2n"
    },
    {
      "cell_type": "markdown",
      "source": [
        "### Step 5: calculate the p-value"
      ],
      "metadata": {
        "id": "aj_mjPNXPSRn"
      },
      "id": "aj_mjPNXPSRn"
    },
    {
      "cell_type": "code",
      "source": [
        "# Import the required function\n",
        "import statsmodels.stats.proportion as stats   \n",
        "\n",
        "# Code to calculate the p-value\n",
        "test_stat, p_value = stats.proportions_ztest([new_converted, old_converted] , [n_treatment, n_control], alternative =\"larger\")   \n",
        "\n",
        "print('The p-value is', p_value)"
      ],
      "metadata": {
        "colab": {
          "base_uri": "https://localhost:8080/"
        },
        "id": "G1Hooa1vPPcX",
        "outputId": "dcc19402-bac9-4cdb-8296-d5290a70d2b7"
      },
      "id": "G1Hooa1vPPcX",
      "execution_count": null,
      "outputs": [
        {
          "output_type": "stream",
          "name": "stdout",
          "text": [
            "The p-value is 0.008026308204056278\n"
          ]
        }
      ]
    },
    {
      "cell_type": "markdown",
      "source": [
        "### Step 6: Compare the p-value"
      ],
      "metadata": {
        "id": "F2JFK1IDZBGC"
      },
      "id": "F2JFK1IDZBGC"
    },
    {
      "cell_type": "code",
      "source": [
        "# print the conclusion based on p-value\n",
        "if p_value < 0.05:\n",
        "    print(f'As the p-value {p_value} is less than the level of significance, we reject the null hypothesis.')\n",
        "else:\n",
        "    print(f'As the p-value {p_value} is greater than the level of significance, we fail to reject the null hypothesis.')"
      ],
      "metadata": {
        "colab": {
          "base_uri": "https://localhost:8080/"
        },
        "id": "RhPgWrdsZEBk",
        "outputId": "da899b48-6cef-4f8d-a47d-99178f8f7cbc"
      },
      "id": "RhPgWrdsZEBk",
      "execution_count": null,
      "outputs": [
        {
          "output_type": "stream",
          "name": "stdout",
          "text": [
            "As the p-value 0.008026308204056278 is less than the level of significance, we reject the null hypothesis.\n"
          ]
        }
      ]
    },
    {
      "cell_type": "markdown",
      "source": [
        "### Step 7: Draw Inferences:\n",
        "Since the p-value < 0.05, we reject the null hypothesis. Thus, is sufficient evidence to say that the true proportion of subscribers converted on the new landing page is greater than that of the old landing page.\n"
      ],
      "metadata": {
        "id": "d7a7suXChDwC"
      },
      "id": "d7a7suXChDwC"
    },
    {
      "cell_type": "markdown",
      "metadata": {
        "id": "d49bfa2d"
      },
      "source": [
        "## 3. Is the conversion and preferred language are independent or related?"
      ],
      "id": "d49bfa2d"
    },
    {
      "cell_type": "markdown",
      "source": [
        "Perform Visual Analysis"
      ],
      "metadata": {
        "id": "HP8hyaYHh-G0"
      },
      "id": "HP8hyaYHh-G0"
    },
    {
      "cell_type": "code",
      "metadata": {
        "id": "b0e63f17",
        "colab": {
          "base_uri": "https://localhost:8080/",
          "height": 504
        },
        "outputId": "d3815803-3b34-469c-8f11-693b1ab253bb"
      },
      "source": [
        "# dependency between conversion status and preferred language\n",
        "pd.crosstab(df['converted'],df['language_preferred'],normalize='index').plot(kind=\"bar\", figsize=(6,8), stacked=True)\n",
        "plt.legend()\n",
        "plt.show()\n"
      ],
      "id": "b0e63f17",
      "execution_count": null,
      "outputs": [
        {
          "output_type": "display_data",
          "data": {
            "text/plain": [
              "<Figure size 432x576 with 1 Axes>"
            ],
            "image/png": "[encoded data removed]"
          },
          "metadata": {
            "needs_background": "light"
          }
        }
      ]
    },
    {
      "cell_type": "markdown",
      "source": [
        "## Step 1: Define the null and alternate hypotheses\n",
        "$H_{0}$: There is no association between preferred language and conversion\n",
        "\n",
        "$H_{A}$:There is a dependence bewtween preferred language and conversion"
      ],
      "metadata": {
        "id": "FTnmBp2viJv9"
      },
      "id": "FTnmBp2viJv9"
    },
    {
      "cell_type": "markdown",
      "source": [
        "### Step 2: Select Appropriate test\n",
        "This is a test of independence, concerning two categorical variables - converted status and preferred language. Based on this information, we will perform a chi-square test of independence."
      ],
      "metadata": {
        "id": "A3hIM64wi1Ss"
      },
      "id": "A3hIM64wi1Ss"
    },
    {
      "cell_type": "markdown",
      "source": [
        "### Step 3: Decide the significance level\n",
        "As given in the problem statement, we select α = 0.05."
      ],
      "metadata": {
        "id": "4XujUKA5jFse"
      },
      "id": "4XujUKA5jFse"
    },
    {
      "cell_type": "markdown",
      "source": [
        "###Step 4: Collect and prepare data"
      ],
      "metadata": {
        "id": "VACFp6eNjIzo"
      },
      "id": "VACFp6eNjIzo"
    },
    {
      "cell_type": "code",
      "source": [
        "# we have to create a table in which weshow the dist. of the two variables\n",
        "contingency_table = pd.crosstab(df['language_preferred'], df['converted'])\n",
        "contingency_table"
      ],
      "metadata": {
        "colab": {
          "base_uri": "https://localhost:8080/",
          "height": 175
        },
        "id": "UktqcTy8jKIe",
        "outputId": "2aaedd94-bb43-442e-fa2f-da14de81b84b"
      },
      "id": "UktqcTy8jKIe",
      "execution_count": null,
      "outputs": [
        {
          "output_type": "execute_result",
          "data": {
            "text/plain": [
              "converted           no  yes\n",
              "language_preferred         \n",
              "English             11   21\n",
              "French              19   15\n",
              "Spanish             16   18"
            ],
            "text/html": [
              "\n",
              "  <div id=\"df-bf2a598e-c226-402a-8af6-54e7115fe914\">\n",
              "    <div class=\"colab-df-container\">\n",
              "      <div>\n",
              "<style scoped>\n",
              "    .dataframe tbody tr th:only-of-type {\n",
              "        vertical-align: middle;\n",
              "    }\n",
              "\n",
              "    .dataframe tbody tr th {\n",
              "        vertical-align: top;\n",
              "    }\n",
              "\n",
              "    .dataframe thead th {\n",
              "        text-align: right;\n",
              "    }\n",
              "</style>\n",
              "<table border=\"1\" class=\"dataframe\">\n",
              "  <thead>\n",
              "    <tr style=\"text-align: right;\">\n",
              "      <th>converted</th>\n",
              "      <th>no</th>\n",
              "      <th>yes</th>\n",
              "    </tr>\n",
              "    <tr>\n",
              "      <th>language_preferred</th>\n",
              "      <th></th>\n",
              "      <th></th>\n",
              "    </tr>\n",
              "  </thead>\n",
              "  <tbody>\n",
              "    <tr>\n",
              "      <th>English</th>\n",
              "      <td>11</td>\n",
              "      <td>21</td>\n",
              "    </tr>\n",
              "    <tr>\n",
              "      <th>French</th>\n",
              "      <td>19</td>\n",
              "      <td>15</td>\n",
              "    </tr>\n",
              "    <tr>\n",
              "      <th>Spanish</th>\n",
              "      <td>16</td>\n",
              "      <td>18</td>\n",
              "    </tr>\n",
              "  </tbody>\n",
              "</table>\n",
              "</div>\n",
              "      <button class=\"colab-df-convert\" onclick=\"convertToInteractive('df-bf2a598e-c226-402a-8af6-54e7115fe914')\"\n",
              "              title=\"Convert this dataframe to an interactive table.\"\n",
              "              style=\"display:none;\">\n",
              "        \n",
              "  <svg xmlns=\"http://www.w3.org/2000/svg\" height=\"24px\"viewBox=\"0 0 24 24\"\n",
              "       width=\"24px\">\n",
              "    <path d=\"M0 0h24v24H0V0z\" fill=\"none\"/>\n",
              "    <path d=\"M18.56 5.44l.94 2.06.94-2.06 2.06-.94-2.06-.94-.94-2.06-.94 2.06-2.06.94zm-11 1L8.5 8.5l.94-2.06 2.06-.94-2.06-.94L8.5 2.5l-.94 2.06-2.06.94zm10 10l.94 2.06.94-2.06 2.06-.94-2.06-.94-.94-2.06-.94 2.06-2.06.94z\"/><path d=\"M17.41 7.96l-1.37-1.37c-.4-.4-.92-.59-1.43-.59-.52 0-1.04.2-1.43.59L10.3 9.45l-7.72 7.72c-.78.78-.78 2.05 0 2.83L4 21.41c.39.39.9.59 1.41.59.51 0 1.02-.2 1.41-.59l7.78-7.78 2.81-2.81c.8-.78.8-2.07 0-2.86zM5.41 20L4 18.59l7.72-7.72 1.47 1.35L5.41 20z\"/>\n",
              "  </svg>\n",
              "      </button>\n",
              "      \n",
              "  <style>\n",
              "    .colab-df-container {\n",
              "      display:flex;\n",
              "      flex-wrap:wrap;\n",
              "      gap: 12px;\n",
              "    }\n",
              "\n",
              "    .colab-df-convert {\n",
              "      background-color: #E8F0FE;\n",
              "      border: none;\n",
              "      border-radius: 50%;\n",
              "      cursor: pointer;\n",
              "      display: none;\n",
              "      fill: #1967D2;\n",
              "      height: 32px;\n",
              "      padding: 0 0 0 0;\n",
              "      width: 32px;\n",
              "    }\n",
              "\n",
              "    .colab-df-convert:hover {\n",
              "      background-color: #E2EBFA;\n",
              "      box-shadow: 0px 1px 2px rgba(60, 64, 67, 0.3), 0px 1px 3px 1px rgba(60, 64, 67, 0.15);\n",
              "      fill: #174EA6;\n",
              "    }\n",
              "\n",
              "    [theme=dark] .colab-df-convert {\n",
              "      background-color: #3B4455;\n",
              "      fill: #D2E3FC;\n",
              "    }\n",
              "\n",
              "    [theme=dark] .colab-df-convert:hover {\n",
              "      background-color: #434B5C;\n",
              "      box-shadow: 0px 1px 3px 1px rgba(0, 0, 0, 0.15);\n",
              "      filter: drop-shadow(0px 1px 2px rgba(0, 0, 0, 0.3));\n",
              "      fill: #FFFFFF;\n",
              "    }\n",
              "  </style>\n",
              "\n",
              "      <script>\n",
              "        const buttonEl =\n",
              "          document.querySelector('#df-bf2a598e-c226-402a-8af6-54e7115fe914 button.colab-df-convert');\n",
              "        buttonEl.style.display =\n",
              "          google.colab.kernel.accessAllowed ? 'block' : 'none';\n",
              "\n",
              "        async function convertToInteractive(key) {\n",
              "          const element = document.querySelector('#df-bf2a598e-c226-402a-8af6-54e7115fe914');\n",
              "          const dataTable =\n",
              "            await google.colab.kernel.invokeFunction('convertToInteractive',\n",
              "                                                     [key], {});\n",
              "          if (!dataTable) return;\n",
              "\n",
              "          const docLinkHtml = 'Like what you see? Visit the ' +\n",
              "            '<a target=\"_blank\" href=https://colab.research.google.com/notebooks/data_table.ipynb>data table notebook</a>'\n",
              "            + ' to learn more about interactive tables.';\n",
              "          element.innerHTML = '';\n",
              "          dataTable['output_type'] = 'display_data';\n",
              "          await google.colab.output.renderOutput(dataTable, element);\n",
              "          const docLink = document.createElement('div');\n",
              "          docLink.innerHTML = docLinkHtml;\n",
              "          element.appendChild(docLink);\n",
              "        }\n",
              "      </script>\n",
              "    </div>\n",
              "  </div>\n",
              "  "
            ]
          },
          "metadata": {},
          "execution_count": 44
        }
      ]
    },
    {
      "cell_type": "markdown",
      "source": [
        "Assumptions:\n",
        "1. Categorical variables - Yes\n",
        "2. Expected value of the number of sample observations in each level of the variable is at least 5 - Yes, the number of observations in each level is greater than 5.\n",
        "3. Random sampling from the population - Yes, we are informed that the collected sample is a simple random sample.\n"
      ],
      "metadata": {
        "id": "CvDo-bCDjai1"
      },
      "id": "CvDo-bCDjai1"
    },
    {
      "cell_type": "markdown",
      "source": [
        "### Step 5: Calculate the p-value"
      ],
      "metadata": {
        "id": "78vrCBhzjuLs"
      },
      "id": "78vrCBhzjuLs"
    },
    {
      "cell_type": "code",
      "source": [
        "\n",
        "import scipy.stats as stats \n",
        "from scipy.stats import chi2_contingency\n",
        "\n",
        "\n",
        "chi, p_value, dof, expected = chi2_contingency(contingency_table)\n",
        "print(\"The p-value is\", p_value)"
      ],
      "metadata": {
        "colab": {
          "base_uri": "https://localhost:8080/"
        },
        "id": "rtY7NqJ5jwYo",
        "outputId": "a5ef066e-42d0-42b0-9e06-08aaab082fa7"
      },
      "id": "rtY7NqJ5jwYo",
      "execution_count": null,
      "outputs": [
        {
          "output_type": "stream",
          "name": "stdout",
          "text": [
            "The p-value is 0.21298887487543447\n"
          ]
        }
      ]
    },
    {
      "cell_type": "markdown",
      "source": [
        "### Step 6: Compare the p-value to alpha"
      ],
      "metadata": {
        "id": "BwdVr6lvlfWO"
      },
      "id": "BwdVr6lvlfWO"
    },
    {
      "cell_type": "code",
      "source": [
        "if p_value < 0.05:\n",
        "    print(f'As the p-value {p_value} is less than the level of significance, we reject the null hypothesis.')\n",
        "else:\n",
        "    print(f'As the p-value {p_value} is greater than the level of significance, we fail to reject the null hypothesis.')"
      ],
      "metadata": {
        "colab": {
          "base_uri": "https://localhost:8080/"
        },
        "id": "ONfH23Z2lj-A",
        "outputId": "e5fa46f0-9211-4ae1-cb0b-ae29328bcd2a"
      },
      "id": "ONfH23Z2lj-A",
      "execution_count": null,
      "outputs": [
        {
          "output_type": "stream",
          "name": "stdout",
          "text": [
            "As the p-value 0.21298887487543447 is greater than the level of significance, we fail to reject the null hypothesis.\n"
          ]
        }
      ]
    },
    {
      "cell_type": "markdown",
      "source": [
        "### Step 7: Draw inference\n",
        "Since the p-value is greater than alpha (Fail to reject null hypothesis), there is not sufficient evidence to indicate there is an association between between preferred language and conversion."
      ],
      "metadata": {
        "id": "TW8CwS9qln-b"
      },
      "id": "TW8CwS9qln-b"
    },
    {
      "cell_type": "markdown",
      "metadata": {
        "id": "8d585a90"
      },
      "source": [
        "## 4. Is the time spent on the new page same for the different language users?"
      ],
      "id": "8d585a90"
    },
    {
      "cell_type": "code",
      "metadata": {
        "id": "b422f395"
      },
      "source": [],
      "id": "b422f395",
      "execution_count": null,
      "outputs": []
    },
    {
      "cell_type": "markdown",
      "source": [
        "###Perform Visual Analysis"
      ],
      "metadata": {
        "id": "fv49J284bhdj"
      },
      "id": "fv49J284bhdj"
    },
    {
      "cell_type": "code",
      "source": [
        "df_new = df[df['landing_page'] == 'new']\n",
        "plt.figure(figsize=(8,8))\n",
        "sns.boxplot(x = 'language_preferred', y = 'time_spent_on_the_page', showmeans = True, data = df_new)\n",
        "plt.show()"
      ],
      "metadata": {
        "colab": {
          "base_uri": "https://localhost:8080/",
          "height": 498
        },
        "id": "lm92-RC5blhk",
        "outputId": "a5cd5f88-bdd8-4de8-d53d-92c9a59324fa"
      },
      "id": "lm92-RC5blhk",
      "execution_count": null,
      "outputs": [
        {
          "output_type": "display_data",
          "data": {
            "text/plain": [
              "<Figure size 576x576 with 1 Axes>"
            ],
            "image/png": "[encoded data removed]"
          },
          "metadata": {
            "needs_background": "light"
          }
        }
      ]
    },
    {
      "cell_type": "code",
      "source": [
        "df_new.groupby(['language_preferred'])['time_spent_on_the_page'].mean()\n"
      ],
      "metadata": {
        "colab": {
          "base_uri": "https://localhost:8080/"
        },
        "id": "LPoTqk4ucawy",
        "outputId": "8bb45955-f897-4af7-a179-37bd1586c69d"
      },
      "id": "LPoTqk4ucawy",
      "execution_count": null,
      "outputs": [
        {
          "output_type": "execute_result",
          "data": {
            "text/plain": [
              "language_preferred\n",
              "English    6.663750\n",
              "French     6.196471\n",
              "Spanish    5.835294\n",
              "Name: time_spent_on_the_page, dtype: float64"
            ]
          },
          "metadata": {},
          "execution_count": 4
        }
      ]
    },
    {
      "cell_type": "markdown",
      "source": [
        "###Step 1: Define the null and alternate hypotheses\n"
      ],
      "metadata": {
        "id": "QWP5Hcw-ckW4"
      },
      "id": "QWP5Hcw-ckW4"
    },
    {
      "cell_type": "markdown",
      "source": [
        "$H_{0}$: $ µ_{1} $ = $µ_{2}$ = 0 $µ_{3}$ = 0\n",
        "\n",
        "$H_{A}$ At least one of the means is not the same \n",
        " \n",
        "\n",
        "µ1= where the true mean time spent on the new page with English as a preferred language\n",
        "\n",
        "µ2 = the true mean time spent on the new page with French as a preferred language\n",
        "\n",
        "µ3 = the true mean time spent on the new page with Spanish as a preferred language"
      ],
      "metadata": {
        "id": "N_n6EAM-crYT"
      },
      "id": "N_n6EAM-crYT"
    },
    {
      "cell_type": "markdown",
      "source": [
        "###Step 2: Select Appropriate test"
      ],
      "metadata": {
        "id": "6Fwto37sdOmM"
      },
      "id": "6Fwto37sdOmM"
    },
    {
      "cell_type": "markdown",
      "source": [
        "This problem concerns three population mean, thus we will use a one-way ANOVA test "
      ],
      "metadata": {
        "id": "8dHMf0YcdRKi"
      },
      "id": "8dHMf0YcdRKi"
    },
    {
      "cell_type": "markdown",
      "source": [
        "###Step 3: Decide the significance level\n",
        "α = 0.05."
      ],
      "metadata": {
        "id": "BK_DEvlmd4Rq"
      },
      "id": "BK_DEvlmd4Rq"
    },
    {
      "cell_type": "markdown",
      "source": [
        "###Step 4: Collect and prepare data\n"
      ],
      "metadata": {
        "id": "ASbsEVqld-Qe"
      },
      "id": "ASbsEVqld-Qe"
    },
    {
      "cell_type": "code",
      "source": [
        "## we have to make a subset of the data on the time spent on each of the languages users'\n",
        "time_spent_Eng = df_new[df_new['language_preferred']==\"English\"]['time_spent_on_the_page']\n",
        "time_spent_Fren = df_new[df_new['language_preferred']==\"French\"]['time_spent_on_the_page']   \n",
        "time_spent_Span = df_new[df_new['language_preferred']==\"Spanish\"]['time_spent_on_the_page']\n"
      ],
      "metadata": {
        "id": "92Of_X-BeB3c"
      },
      "id": "92Of_X-BeB3c",
      "execution_count": null,
      "outputs": []
    },
    {
      "cell_type": "markdown",
      "source": [
        "### Step 5: calculate the P-value "
      ],
      "metadata": {
        "id": "NvftMGutfDfj"
      },
      "id": "NvftMGutfDfj"
    },
    {
      "cell_type": "code",
      "source": [
        "\n",
        "import scipy.stats as stats \n",
        "test_stat, p_val = stats.levene(time_spent_Eng, time_spent_Fren, time_spent_Span)   \n",
        "print('The p-value is', p_val)\n"
      ],
      "metadata": {
        "colab": {
          "base_uri": "https://localhost:8080/"
        },
        "id": "-2UnpnMGfDIV",
        "outputId": "c2d026e3-b777-42d2-dcf2-946fe51904c8"
      },
      "id": "-2UnpnMGfDIV",
      "execution_count": null,
      "outputs": [
        {
          "output_type": "stream",
          "name": "stdout",
          "text": [
            "The p-value is 0.46711357711340173\n"
          ]
        }
      ]
    },
    {
      "cell_type": "markdown",
      "source": [
        "### Step 6: compare the p-values "
      ],
      "metadata": {
        "id": "ulG7GUW9fSgZ"
      },
      "id": "ulG7GUW9fSgZ"
    },
    {
      "cell_type": "code",
      "source": [
        "if p_value < 0.05:\n",
        "    print(f'As the p-value {p_value} is less than the level of significance, we reject the null hypothesis.')\n",
        "else:\n",
        "    print(f'As the p-value {p_value} is greater than the level of significance, we fail to reject the null hypothesis.')"
      ],
      "metadata": {
        "colab": {
          "base_uri": "https://localhost:8080/"
        },
        "id": "iGs_eT9lfX2y",
        "outputId": "e3f06247-c5be-41c8-b3b4-2b5e4f4c1f7c"
      },
      "id": "iGs_eT9lfX2y",
      "execution_count": null,
      "outputs": [
        {
          "output_type": "stream",
          "name": "stdout",
          "text": [
            "As the p-value 0.46711357711340173 is greater than the level of significance, we fail to reject the null hypothesis.\n"
          ]
        }
      ]
    },
    {
      "cell_type": "markdown",
      "source": [
        "### Step 7: Conclusion/inferences "
      ],
      "metadata": {
        "id": "wnHmElGSfhKG"
      },
      "id": "wnHmElGSfhKG"
    },
    {
      "cell_type": "markdown",
      "source": [
        "Since the p-value is greater than alpha (Fail to reject null hypothesis), there is not sufficient evidence to indicate that any of the preferred languages affect the time spent on the new page"
      ],
      "metadata": {
        "id": "WtYIoYiRfotN"
      },
      "id": "WtYIoYiRfotN"
    },
    {
      "cell_type": "markdown",
      "metadata": {
        "id": "3acbc947"
      },
      "source": [
        "## Conclusion and Business Recommendations"
      ],
      "id": "3acbc947"
    },
    {
      "cell_type": "markdown",
      "metadata": {
        "id": "21fb1063"
      },
      "source": [
        "1. There is no established relation between preferred language and time spent on page\n",
        "2. There is no established relation between preferred language and conversion rate\n",
        "3. We have enough statistical evidence to say users spend more time on average on the new page then on the old page\n",
        "4. We have enough statistical evidence to say the conversion rate for the new page is greater than the conversion rate for the old page"
      ],
      "id": "21fb1063"
    },
    {
      "cell_type": "markdown",
      "source": [
        "___"
      ],
      "metadata": {
        "id": "U0dAd4i0iCHo"
      },
      "id": "U0dAd4i0iCHo"
    },
    {
      "cell_type": "markdown",
      "source": [
        "### Recomendations\n",
        "The new landing page  should be recommended for improving the conversion rate to gather new subscribers/users for the news portal. E-news Express should switch to the new landing page. \n",
        "\n"
      ],
      "metadata": {
        "id": "uqQf95uBgHyh"
      },
      "id": "uqQf95uBgHyh"
    }
  ]
}